{
 "cells": [
  {
   "cell_type": "markdown",
   "metadata": {},
   "source": [
    "We want to compute the summation such that the difference between partial sums is less than a given tolerance \n",
    "\n",
    "$$\n",
    "    \\sum^\\infty_{n=1} \\frac{a^n}{b^{n-1}}\n",
    "$$\n",
    "\n",
    "\n",
    "\n",
    "The approach here is to\n",
    "\n",
    "**1-** Check if the function is convergent or divergent\n",
    "\n",
    "for the given sum, if $|a| < |b|$ the function is convergent.\n",
    "\n",
    "\n",
    "**2-** Find the partial sum ($PS$) furmula \n",
    "\n",
    "\n",
    "**3-** Calculate the diffrence between subsequet $PSs$ (let it be $D$)\n",
    "\n",
    "**4-** When $D < tolerance$ stop calculation and return the last $PS$\n"
   ]
  },
  {
   "cell_type": "code",
   "execution_count": 1,
   "metadata": {
    "collapsed": false
   },
   "outputs": [
    {
     "name": "stdout",
     "output_type": "stream",
     "text": [
      "The difference is less than tolerance, YAY!\n",
      "The last PS is -1.19999721862\n",
      "The difference is 6.953460067737893e-06\n",
      "None\n"
     ]
    }
   ],
   "source": [
    "import numpy as np\n",
    "\n",
    "def Comput_Sum(a,b,t):\n",
    "    if abs(a) < abs(b):  # test for divergence\n",
    "        c= a/(a-b)       # constant needed later to calculate the partial sum \n",
    "        PS=[]            # for storing partial sums \n",
    "        for n in range(1,33):\n",
    "            PS.append(c*(b**(1-n))*((a**(n))-(b**(n))))\n",
    "            #print \"PS\", n, PS\n",
    "            D = np.diff(PS)\n",
    "            #print \" the diffrence is\", D\n",
    "        if abs(D[-1]) < t:\n",
    "            print \"The difference is less than tolerance, YAY!\"\n",
    "            print \"The last PS is\", PS[-1]\n",
    "            print \"The difference is\" , D[-1]\n",
    "        else:\n",
    "            print \"The difference is still greater then the tolerence \"\n",
    "    else:\n",
    "        print \"the sum is divergent\"\n",
    "\n",
    "print Comput_Sum(-2.0,3.0,1e-5)"
   ]
  }
 ],
 "metadata": {
  "anaconda-cloud": {},
  "kernelspec": {
   "display_name": "Python [default]",
   "language": "python",
   "name": "python2"
  },
  "language_info": {
   "codemirror_mode": {
    "name": "ipython",
    "version": 2
   },
   "file_extension": ".py",
   "mimetype": "text/x-python",
   "name": "python",
   "nbconvert_exporter": "python",
   "pygments_lexer": "ipython2",
   "version": "2.7.12"
  }
 },
 "nbformat": 4,
 "nbformat_minor": 1
}
